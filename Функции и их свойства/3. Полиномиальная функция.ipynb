{
 "cells": [
  {
   "cell_type": "markdown",
   "id": "333eb586",
   "metadata": {},
   "source": [
    "2x \n",
    "3\n",
    " −x \n",
    "2\n",
    " +3x−4"
   ]
  },
  {
   "cell_type": "code",
   "execution_count": 1,
   "id": "5092bae2",
   "metadata": {},
   "outputs": [],
   "source": [
    "def my_polynomial(x):\n",
    "    return 2 * x**3 - x**2 + 3 * x - 4 "
   ]
  },
  {
   "cell_type": "code",
   "execution_count": 2,
   "id": "8bb44ff1",
   "metadata": {},
   "outputs": [
    {
     "data": {
      "text/plain": [
       "14"
      ]
     },
     "execution_count": 2,
     "metadata": {},
     "output_type": "execute_result"
    }
   ],
   "source": [
    "my_polynomial(2)"
   ]
  },
  {
   "cell_type": "code",
   "execution_count": null,
   "id": "0cf35746",
   "metadata": {},
   "outputs": [],
   "source": []
  },
  {
   "cell_type": "code",
   "execution_count": 5,
   "id": "615976ab",
   "metadata": {},
   "outputs": [
    {
     "name": "stdout",
     "output_type": "stream",
     "text": [
      "234\n"
     ]
    }
   ],
   "source": [
    "import numpy as np\n",
    "#        7  6  5  4   3  2  1  0 - Степени при коэффициентах\n",
    "coefs = [2, 0, 0, 0, -3, 0, 1, 0]\n",
    "\n",
    "# Создаём функцию, которая вычисляет полином\n",
    "my_polynomial = np.poly1d(coefs)\n",
    "\n",
    "# Считаем значение функции в точке x=2 и выводим на экран\n",
    "print(my_polynomial(2))"
   ]
  },
  {
   "cell_type": "code",
   "execution_count": null,
   "id": "cfe1eee8",
   "metadata": {},
   "outputs": [],
   "source": []
  },
  {
   "cell_type": "markdown",
   "id": "e4d6c657",
   "metadata": {},
   "source": [
    "##### практика"
   ]
  },
  {
   "cell_type": "code",
   "execution_count": 10,
   "id": "00836774",
   "metadata": {},
   "outputs": [
    {
     "name": "stdout",
     "output_type": "stream",
     "text": [
      "0.75\n"
     ]
    }
   ],
   "source": [
    "coefs = [3, 6,  -3]\n",
    "\n",
    "my_poly = np.poly1d(coefs)\n",
    "print(my_poly(-2.5))"
   ]
  },
  {
   "cell_type": "code",
   "execution_count": null,
   "id": "7f9fbab0",
   "metadata": {},
   "outputs": [],
   "source": []
  },
  {
   "cell_type": "markdown",
   "id": "67f007ed",
   "metadata": {},
   "source": [
    "y = 3*x**2 +2*x -5"
   ]
  },
  {
   "cell_type": "code",
   "execution_count": 13,
   "id": "4faad7db",
   "metadata": {},
   "outputs": [
    {
     "name": "stdout",
     "output_type": "stream",
     "text": [
      "-4\n"
     ]
    }
   ],
   "source": [
    "coefs = [3, 2,  -5]\n",
    "\n",
    "my_poly = np.poly1d(coefs)\n",
    "print(my_poly(-1))"
   ]
  },
  {
   "cell_type": "code",
   "execution_count": null,
   "id": "dcb2eac8",
   "metadata": {},
   "outputs": [],
   "source": [
    "coefs = [3, 2,  -5]\n",
    "\n",
    "my_poly = np.poly1d(coefs)\n",
    "print(my_poly(-1))"
   ]
  },
  {
   "cell_type": "code",
   "execution_count": null,
   "id": "0d9f4c3d",
   "metadata": {},
   "outputs": [],
   "source": []
  }
 ],
 "metadata": {
  "kernelspec": {
   "display_name": "Python 3 (ipykernel)",
   "language": "python",
   "name": "python3"
  },
  "language_info": {
   "codemirror_mode": {
    "name": "ipython",
    "version": 3
   },
   "file_extension": ".py",
   "mimetype": "text/x-python",
   "name": "python",
   "nbconvert_exporter": "python",
   "pygments_lexer": "ipython3",
   "version": "3.11.3"
  }
 },
 "nbformat": 4,
 "nbformat_minor": 5
}
