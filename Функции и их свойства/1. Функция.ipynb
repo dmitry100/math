{
 "cells": [
  {
   "cell_type": "code",
   "execution_count": 1,
   "id": "fab46b5d",
   "metadata": {},
   "outputs": [],
   "source": [
    "import numpy as np"
   ]
  },
  {
   "cell_type": "code",
   "execution_count": 8,
   "id": "c2b165ea",
   "metadata": {},
   "outputs": [],
   "source": [
    "def func(x):\n",
    "    y = 17*x -3*x**2 -x**4\n",
    "    return(y)\n",
    "\n",
    "\n",
    "x_array = np.array([1, 2, -2, 2**0.5, 0, 2**0.5, 3])\n",
    "\n",
    "y_array = func(x_array)"
   ]
  },
  {
   "cell_type": "code",
   "execution_count": 9,
   "id": "8467f8df",
   "metadata": {},
   "outputs": [
    {
     "name": "stdout",
     "output_type": "stream",
     "text": [
      "(1.0, 13.0)\n",
      "(2.0, 6.0)\n",
      "(-2.0, -62.0)\n",
      "(1.4142135623730951, 14.041630560342618)\n",
      "(0.0, 0.0)\n",
      "(1.4142135623730951, 14.041630560342618)\n",
      "(3.0, -57.0)\n"
     ]
    }
   ],
   "source": [
    "for i in zip(x_array, y_array):\n",
    "    print(i)"
   ]
  },
  {
   "cell_type": "code",
   "execution_count": null,
   "id": "8a230d28",
   "metadata": {},
   "outputs": [],
   "source": []
  },
  {
   "cell_type": "code",
   "execution_count": 10,
   "id": "f5269e47",
   "metadata": {},
   "outputs": [
    {
     "name": "stdout",
     "output_type": "stream",
     "text": [
      "[630. 252.  75.  12.   0.   0.  -3.   0.  42. 180.]\n"
     ]
    }
   ],
   "source": [
    "def func(x):\n",
    "    y = -2.5 * x**2 - 0.5 * x**3 + x**4 -x\n",
    "    return(y)\n",
    "\n",
    "x = np.arange(-5,5,1)\n",
    "y = func(x)\n",
    "\n",
    "print(y)\n",
    "# Напишите фу"
   ]
  }
 ],
 "metadata": {
  "kernelspec": {
   "display_name": "Python 3 (ipykernel)",
   "language": "python",
   "name": "python3"
  },
  "language_info": {
   "codemirror_mode": {
    "name": "ipython",
    "version": 3
   },
   "file_extension": ".py",
   "mimetype": "text/x-python",
   "name": "python",
   "nbconvert_exporter": "python",
   "pygments_lexer": "ipython3",
   "version": "3.11.3"
  }
 },
 "nbformat": 4,
 "nbformat_minor": 5
}
