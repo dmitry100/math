{
 "cells": [
  {
   "cell_type": "markdown",
   "id": "cdd83a92",
   "metadata": {},
   "source": [
    "Вычислим значение функции y = 3x+4 в промежутке [-5,5)"
   ]
  },
  {
   "cell_type": "code",
   "execution_count": 1,
   "id": "98db3eb9",
   "metadata": {},
   "outputs": [],
   "source": [
    "import numpy as np"
   ]
  },
  {
   "cell_type": "code",
   "execution_count": 2,
   "id": "56967c2e",
   "metadata": {},
   "outputs": [
    {
     "name": "stdout",
     "output_type": "stream",
     "text": [
      "[-11  -8  -5  -2   1   4   7  10  13  16]\n",
      "[-11  -8  -5  -2   1   4   7  10  13  16]\n"
     ]
    }
   ],
   "source": [
    "# Создаём линейную функцию.\n",
    "def f(x):\n",
    "    return 3 * x + 4\n",
    "\n",
    "# Применяем функцию ко всем целым числам в промежутке [-5, 5).\n",
    "print(f(np.arange(-5, 5)))\n",
    "\n",
    "# Это также можно посчитать явно, без использования функции Python:\n",
    "x = np.arange(-5, 5)\n",
    "print(3 * x + 4) "
   ]
  }
 ],
 "metadata": {
  "kernelspec": {
   "display_name": "Python 3 (ipykernel)",
   "language": "python",
   "name": "python3"
  },
  "language_info": {
   "codemirror_mode": {
    "name": "ipython",
    "version": 3
   },
   "file_extension": ".py",
   "mimetype": "text/x-python",
   "name": "python",
   "nbconvert_exporter": "python",
   "pygments_lexer": "ipython3",
   "version": "3.11.3"
  }
 },
 "nbformat": 4,
 "nbformat_minor": 5
}
