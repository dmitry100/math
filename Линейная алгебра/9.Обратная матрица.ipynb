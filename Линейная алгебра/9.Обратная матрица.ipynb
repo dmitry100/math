{
 "cells": [
  {
   "cell_type": "code",
   "execution_count": 1,
   "id": "465b5325",
   "metadata": {},
   "outputs": [],
   "source": [
    "import numpy as np"
   ]
  },
  {
   "cell_type": "code",
   "execution_count": 2,
   "id": "b2daf7f8",
   "metadata": {},
   "outputs": [
    {
     "name": "stdout",
     "output_type": "stream",
     "text": [
      "Матрица:\n",
      "[[  0.55   0.4    1.2    6.  ]\n",
      " [-12.    -9.     0.5    1.  ]\n",
      " [  8.8   -8.    -4.     2.9 ]\n",
      " [  1.3    7.    -0.94   2.  ]]\n",
      "Обратная матрица:\n",
      "[[ 0.03064619 -0.07713982  0.0183436  -0.07996688]\n",
      " [-0.01615125 -0.01149314 -0.02884959  0.09603222]\n",
      " [ 0.19152961 -0.12317838 -0.13254987 -0.32080232]\n",
      " [ 0.12662826  0.03247304  0.02675178  0.06508861]]\n",
      "Проверка единичной матрицей:\n",
      "[[ 1.  0.  0.  0.]\n",
      " [ 0.  1.  0.  0.]\n",
      " [-0. -0.  1.  0.]\n",
      " [ 0. -0. -0.  1.]]\n"
     ]
    }
   ],
   "source": [
    "a = np.array( [[0.55, 0.4, 1.2, 6],\n",
    "              [-12, -9, 0.5, 1],\n",
    "              [8.8, -8, -4, 2.9],\n",
    "              [1.3, 7, -0.94, 2]])\n",
    "\n",
    "b = np.linalg.inv(a)\n",
    "\n",
    "print(\"Матрица:\")\n",
    "print(a)\n",
    "print(\"Обратная матрица:\")\n",
    "print(b)\n",
    "print(\"Проверка единичной матрицей:\")\n",
    "print((a@b).round())"
   ]
  },
  {
   "cell_type": "markdown",
   "id": "4c0f9e15",
   "metadata": {},
   "source": [
    "Педантичный студент Валера заметил, что на чтение блока теории у него всегда уходит \n",
    "�\n",
    "x минут. На страдания, что ничего не понятно, — \n",
    "�\n",
    "y минут, а на решение одной задачи и осознание, что он в итоге всё понял, — \n",
    "�\n",
    "z минут.\n",
    "В понедельник Валера потратил на учёбу \n",
    "113\n",
    "113 минут, во вторник — \n",
    "120\n",
    "120 минут, в среду — \n",
    "136\n",
    "136 минут. В таблице указано, сколько блоков теории, страданий и задач поместилось в указанное время."
   ]
  },
  {
   "cell_type": "code",
   "execution_count": 2,
   "id": "73e81c07",
   "metadata": {},
   "outputs": [
    {
     "name": "stdout",
     "output_type": "stream",
     "text": [
      "[[ 7.]\n",
      " [15.]\n",
      " [ 8.]]\n"
     ]
    }
   ],
   "source": [
    "a = np.array( [[4, 3, 5],\n",
    "  [3, 5, 3],\n",
    "  [6, 2, 8]])\n",
    "\n",
    "b = np.array([113, 120, 136]).reshape(3, 1)\n",
    "\n",
    "a_inv = np.linalg.inv(a)\n",
    "\n",
    "result = a_inv @ b\n",
    "print(result)"
   ]
  }
 ],
 "metadata": {
  "kernelspec": {
   "display_name": "Python 3 (ipykernel)",
   "language": "python",
   "name": "python3"
  },
  "language_info": {
   "codemirror_mode": {
    "name": "ipython",
    "version": 3
   },
   "file_extension": ".py",
   "mimetype": "text/x-python",
   "name": "python",
   "nbconvert_exporter": "python",
   "pygments_lexer": "ipython3",
   "version": "3.11.3"
  }
 },
 "nbformat": 4,
 "nbformat_minor": 5
}
