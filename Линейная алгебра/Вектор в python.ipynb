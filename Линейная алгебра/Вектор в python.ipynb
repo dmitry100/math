{
 "cells": [
  {
   "cell_type": "code",
   "execution_count": 1,
   "id": "1a80451c",
   "metadata": {},
   "outputs": [],
   "source": [
    "import numpy as np"
   ]
  },
  {
   "cell_type": "code",
   "execution_count": null,
   "id": "ac416b48",
   "metadata": {},
   "outputs": [],
   "source": []
  },
  {
   "cell_type": "code",
   "execution_count": 4,
   "id": "47c356a1",
   "metadata": {},
   "outputs": [
    {
     "name": "stdout",
     "output_type": "stream",
     "text": [
      "[2 5 9]\n"
     ]
    }
   ],
   "source": [
    "#вeктор\n",
    "vect = np.array([2, 5, 9])\n",
    "\n",
    "print(np.array(vect))"
   ]
  },
  {
   "cell_type": "code",
   "execution_count": 7,
   "id": "0ae3bf14",
   "metadata": {},
   "outputs": [
    {
     "name": "stdout",
     "output_type": "stream",
     "text": [
      "[0. 0. 0. 0.]\n"
     ]
    }
   ],
   "source": [
    "#нулевой вектор с заданной размеронссттьью\n",
    "zeros = np.zeros(4)\n",
    "\n",
    "print(zeros)"
   ]
  },
  {
   "cell_type": "code",
   "execution_count": 8,
   "id": "0b5ba8b6",
   "metadata": {},
   "outputs": [
    {
     "name": "stdout",
     "output_type": "stream",
     "text": [
      "[1266.   751.  1266.4  904.   412.  1628.   132. ]\n"
     ]
    }
   ],
   "source": [
    "#сложение векторов: по позициям\n",
    "\n",
    "january = np.array([648, 371, 338.4, 512, 0, 437, 11])\n",
    "february = np.array([112, 380, 516, 294, 108, 380, 65])\n",
    "march = np.array([506, 0, 412, 98, 304, 811, 56]) \n",
    "\n",
    "s = january + february + march\n",
    "print(s)"
   ]
  },
  {
   "cell_type": "code",
   "execution_count": null,
   "id": "d90e2f32",
   "metadata": {},
   "outputs": [],
   "source": []
  },
  {
   "cell_type": "code",
   "execution_count": 11,
   "id": "e9aadc55",
   "metadata": {},
   "outputs": [
    {
     "name": "stdout",
     "output_type": "stream",
     "text": [
      "[ 0.35  1.86  1.4   1.05  2.13  1.5  -0.24  0.24  1.22  0.95  1.    2.66]\n"
     ]
    }
   ],
   "source": [
    "#вычитание\n",
    "# Десятичные дроби на языке Python всегда пишут через точку.\n",
    "\n",
    "\n",
    "income = np.array([2.8, 4.31, 3.75, 5.4, 5.98, 4.9, 3.11, 4.5, 5.24, 4, 3.8, 6.11])\n",
    "outcome = np.array([2.3, 2.3, 2.2, 4.2, 3.7, 3.25, 3.2, 4.11, 3.87, 2.9, 2.65, 3.3])\n",
    "\n",
    "#можно вычесть одно число от всех сразу (-0.15)\n",
    "print(income - outcome - 0.15)"
   ]
  },
  {
   "cell_type": "code",
   "execution_count": null,
   "id": "44a7321e",
   "metadata": {},
   "outputs": [],
   "source": []
  },
  {
   "cell_type": "code",
   "execution_count": null,
   "id": "bd25304e",
   "metadata": {},
   "outputs": [],
   "source": []
  },
  {
   "cell_type": "code",
   "execution_count": 16,
   "id": "52dbffe0",
   "metadata": {},
   "outputs": [
    {
     "name": "stdout",
     "output_type": "stream",
     "text": [
      "[False False] [False  True] [False False] [ True  True]\n"
     ]
    }
   ],
   "source": [
    "#задачи\n",
    "#сопоставить выражения\n",
    "\n",
    "a = np.array([-6, 0])\n",
    "b = np.array([2, -6])\n",
    "c = np.array([-13 , 2])\n",
    "d = np.array([-5 , -4])\n",
    "\n",
    "print(-a + b == c - d, \n",
    "     a + b + c == d,\n",
    "     -a - b - d == c,\n",
    "     a + d == b + c) \n"
   ]
  },
  {
   "cell_type": "code",
   "execution_count": null,
   "id": "66830b1b",
   "metadata": {},
   "outputs": [],
   "source": []
  },
  {
   "cell_type": "code",
   "execution_count": 22,
   "id": "2077a473",
   "metadata": {},
   "outputs": [
    {
     "data": {
      "text/plain": [
       "array([703, 447])"
      ]
     },
     "execution_count": 22,
     "metadata": {},
     "output_type": "execute_result"
    }
   ],
   "source": [
    "np.array([45, 17 + 310]) + np.array([58, 120]) + np.array([600, 0])"
   ]
  }
 ],
 "metadata": {
  "kernelspec": {
   "display_name": "Python 3 (ipykernel)",
   "language": "python",
   "name": "python3"
  },
  "language_info": {
   "codemirror_mode": {
    "name": "ipython",
    "version": 3
   },
   "file_extension": ".py",
   "mimetype": "text/x-python",
   "name": "python",
   "nbconvert_exporter": "python",
   "pygments_lexer": "ipython3",
   "version": "3.11.3"
  }
 },
 "nbformat": 4,
 "nbformat_minor": 5
}
