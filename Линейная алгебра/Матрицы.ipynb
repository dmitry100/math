{
 "cells": [
  {
   "cell_type": "code",
   "execution_count": 3,
   "id": "c7cf0c48",
   "metadata": {},
   "outputs": [],
   "source": [
    "import numpy as np"
   ]
  },
  {
   "cell_type": "code",
   "execution_count": 4,
   "id": "a5481c89",
   "metadata": {},
   "outputs": [
    {
     "name": "stdout",
     "output_type": "stream",
     "text": [
      "[[  2  17  43]\n",
      " [ 36   8   4]\n",
      " [ 10 -11   6]\n",
      " [  3   7  15]]\n"
     ]
    }
   ],
   "source": [
    "#каждая строка в отдельных квадртаных скобках\n",
    "m = np.array([\n",
    "      [2, 17, 43],\n",
    "      [36, 8, 4],\n",
    "      [10, -11, 6],\n",
    "      [3, 7, 15]\n",
    "    ])\n",
    "print(m)"
   ]
  },
  {
   "cell_type": "code",
   "execution_count": 5,
   "id": "3dd07e6f",
   "metadata": {},
   "outputs": [
    {
     "name": "stdout",
     "output_type": "stream",
     "text": [
      "[[ 1]\n",
      " [14]\n",
      " [ 6]\n",
      " [ 9]]\n"
     ]
    }
   ],
   "source": [
    "#вектор столбец\n",
    "k = np.array([\n",
    "    [1],\n",
    "    [14],\n",
    "    [6],\n",
    "    [9]\n",
    "    ])\n",
    "print(k) "
   ]
  },
  {
   "cell_type": "code",
   "execution_count": 6,
   "id": "74864933",
   "metadata": {},
   "outputs": [
    {
     "name": "stdout",
     "output_type": "stream",
     "text": [
      "Матрица:\n",
      "[[  2  17  43]\n",
      " [ 36   8   4]\n",
      " [ 10 -11   6]\n",
      " [  3   7  15]]\n",
      "\n",
      "Транспонированная матрица:\n",
      "[[  2  36  10   3]\n",
      " [ 17   8 -11   7]\n",
      " [ 43   4   6  15]]\n"
     ]
    }
   ],
   "source": [
    "#транспонироание матриц\n",
    "m = np.array([\n",
    "    [2, 17, 43],\n",
    "    [36, 8, 4],\n",
    "    [10, -11, 6],\n",
    "    [3, 7, 15]\n",
    "    ])\n",
    "\n",
    "print(\"Матрица:\")\n",
    "print(m)  # Вывод исходной матрицы.\n",
    "print()  # Пустая строка для разделения.\n",
    "m = m.T  # Теперь m - это транспонированная матрица.\n",
    "print(\"Транспонированная матрица:\")\n",
    "print(m)  # Вывод новой, транспонированной матрицы. "
   ]
  }
 ],
 "metadata": {
  "kernelspec": {
   "display_name": "Python 3 (ipykernel)",
   "language": "python",
   "name": "python3"
  },
  "language_info": {
   "codemirror_mode": {
    "name": "ipython",
    "version": 3
   },
   "file_extension": ".py",
   "mimetype": "text/x-python",
   "name": "python",
   "nbconvert_exporter": "python",
   "pygments_lexer": "ipython3",
   "version": "3.11.3"
  }
 },
 "nbformat": 4,
 "nbformat_minor": 5
}
