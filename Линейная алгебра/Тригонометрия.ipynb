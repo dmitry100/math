{
 "cells": [
  {
   "cell_type": "code",
   "execution_count": 1,
   "id": "1a80451c",
   "metadata": {},
   "outputs": [],
   "source": [
    "import numpy as np"
   ]
  },
  {
   "cell_type": "code",
   "execution_count": null,
   "id": "ac416b48",
   "metadata": {},
   "outputs": [],
   "source": []
  },
  {
   "cell_type": "code",
   "execution_count": null,
   "id": "bd25304e",
   "metadata": {},
   "outputs": [],
   "source": []
  },
  {
   "cell_type": "code",
   "execution_count": 2,
   "id": "66830b1b",
   "metadata": {},
   "outputs": [
    {
     "name": "stdout",
     "output_type": "stream",
     "text": [
      "0.7071067811865476 0.7071067811865476 0.9999999999999999\n",
      "0.8910065241883679 -0.45399049973954675 -1.962610505505151\n"
     ]
    }
   ],
   "source": [
    "alpha = np.pi / 4  # перед pi обязательно дописать np.\n",
    "beta = np.deg2rad(117)  # перевод в радианы\n",
    "print(np.sin(alpha), np.cos(alpha), np.tan(alpha))\n",
    "print(np.sin(beta), np.cos(beta), np.tan(beta)) "
   ]
  },
  {
   "cell_type": "code",
   "execution_count": null,
   "id": "4850b956",
   "metadata": {},
   "outputs": [],
   "source": []
  },
  {
   "cell_type": "code",
   "execution_count": null,
   "id": "819b3287",
   "metadata": {},
   "outputs": [],
   "source": []
  },
  {
   "cell_type": "code",
   "execution_count": 4,
   "id": "91e22c72",
   "metadata": {},
   "outputs": [],
   "source": [
    "#Вычислим арксинус и арккосинус x = -5/12 \n",
    "#и переведём значение в градусы.\n"
   ]
  },
  {
   "cell_type": "code",
   "execution_count": 5,
   "id": "b1050ab9",
   "metadata": {},
   "outputs": [
    {
     "name": "stdout",
     "output_type": "stream",
     "text": [
      "-24.624318352164078\n",
      "114.62431835216408\n"
     ]
    }
   ],
   "source": [
    "x = -5 / 12\n",
    "alpha = np.arcsin(x)\n",
    "beta = np.arccos(x)\n",
    "print(np.rad2deg(alpha))\n",
    "print(np.rad2deg(beta))"
   ]
  },
  {
   "cell_type": "code",
   "execution_count": 12,
   "id": "995a41e8",
   "metadata": {},
   "outputs": [
    {
     "data": {
      "text/plain": [
       "False"
      ]
     },
     "execution_count": 12,
     "metadata": {},
     "output_type": "execute_result"
    }
   ],
   "source": [
    "np.sin(15 * np.pi/6) == np.sin(17 * np.pi/6)"
   ]
  },
  {
   "cell_type": "code",
   "execution_count": 14,
   "id": "ea010210",
   "metadata": {},
   "outputs": [
    {
     "data": {
      "text/plain": [
       "False"
      ]
     },
     "execution_count": 14,
     "metadata": {},
     "output_type": "execute_result"
    }
   ],
   "source": [
    "np.cos(3 * np.pi/4) == np.cos(5 *np.pi/4)"
   ]
  },
  {
   "cell_type": "code",
   "execution_count": 15,
   "id": "085bee30",
   "metadata": {},
   "outputs": [
    {
     "data": {
      "text/plain": [
       "False"
      ]
     },
     "execution_count": 15,
     "metadata": {},
     "output_type": "execute_result"
    }
   ],
   "source": [
    "np.tan(-11 * np.pi/5) == np.tan(-np.pi/5)"
   ]
  },
  {
   "cell_type": "code",
   "execution_count": 17,
   "id": "f8d19afb",
   "metadata": {},
   "outputs": [
    {
     "data": {
      "text/plain": [
       "False"
      ]
     },
     "execution_count": 17,
     "metadata": {},
     "output_type": "execute_result"
    }
   ],
   "source": [
    "np.tan(6 * np.pi/7) == np.tan(21*np.pi/7)"
   ]
  },
  {
   "cell_type": "code",
   "execution_count": null,
   "id": "62e48052",
   "metadata": {},
   "outputs": [],
   "source": []
  },
  {
   "cell_type": "code",
   "execution_count": 21,
   "id": "e0371a84",
   "metadata": {},
   "outputs": [
    {
     "data": {
      "text/plain": [
       "True"
      ]
     },
     "execution_count": 21,
     "metadata": {},
     "output_type": "execute_result"
    }
   ],
   "source": [
    "#1\n",
    "np.sin(5 * np.pi/8) == np.sin(3 * np.pi/8)\n"
   ]
  },
  {
   "cell_type": "code",
   "execution_count": 20,
   "id": "9ef3e99e",
   "metadata": {},
   "outputs": [
    {
     "data": {
      "text/plain": [
       "False"
      ]
     },
     "execution_count": 20,
     "metadata": {},
     "output_type": "execute_result"
    }
   ],
   "source": [
    "#2\n",
    "np.cos(11 * np.pi/12) == np.cos( np.pi/12)"
   ]
  },
  {
   "cell_type": "code",
   "execution_count": 22,
   "id": "c2c2ba3c",
   "metadata": {},
   "outputs": [
    {
     "data": {
      "text/plain": [
       "False"
      ]
     },
     "execution_count": 22,
     "metadata": {},
     "output_type": "execute_result"
    }
   ],
   "source": [
    "#3\n",
    "np.sin(15 * np.pi/16) == np.sin(17 * np.pi/16\n",
    "                               )"
   ]
  },
  {
   "cell_type": "code",
   "execution_count": 23,
   "id": "7e6310a7",
   "metadata": {},
   "outputs": [
    {
     "data": {
      "text/plain": [
       "False"
      ]
     },
     "execution_count": 23,
     "metadata": {},
     "output_type": "execute_result"
    }
   ],
   "source": [
    "#4\n",
    "np.cos(3 * np.pi/4) == np.cos(5* np.pi/4)"
   ]
  },
  {
   "cell_type": "code",
   "execution_count": 26,
   "id": "04d6ad91",
   "metadata": {},
   "outputs": [
    {
     "data": {
      "text/plain": [
       "-0.7071067811865475"
      ]
     },
     "execution_count": 26,
     "metadata": {},
     "output_type": "execute_result"
    }
   ],
   "source": [
    "np.cos(3 * np.pi/4)"
   ]
  },
  {
   "cell_type": "code",
   "execution_count": 27,
   "id": "c20ae7e0",
   "metadata": {},
   "outputs": [
    {
     "data": {
      "text/plain": [
       "-0.7071067811865477"
      ]
     },
     "execution_count": 27,
     "metadata": {},
     "output_type": "execute_result"
    }
   ],
   "source": [
    "np.cos(5* np.pi/4)"
   ]
  },
  {
   "cell_type": "code",
   "execution_count": 24,
   "id": "fead7c85",
   "metadata": {},
   "outputs": [
    {
     "data": {
      "text/plain": [
       "False"
      ]
     },
     "execution_count": 24,
     "metadata": {},
     "output_type": "execute_result"
    }
   ],
   "source": [
    "#5\n",
    "np.tan(-11 * np.pi/5) == np.tan(- np.pi/5)"
   ]
  },
  {
   "cell_type": "code",
   "execution_count": 25,
   "id": "fd0b57b7",
   "metadata": {},
   "outputs": [
    {
     "data": {
      "text/plain": [
       "False"
      ]
     },
     "execution_count": 25,
     "metadata": {},
     "output_type": "execute_result"
    }
   ],
   "source": [
    "#6\n",
    "np.tan(6 * np.pi/7) == np.tan(21*np.pi/7)"
   ]
  }
 ],
 "metadata": {
  "kernelspec": {
   "display_name": "Python 3 (ipykernel)",
   "language": "python",
   "name": "python3"
  },
  "language_info": {
   "codemirror_mode": {
    "name": "ipython",
    "version": 3
   },
   "file_extension": ".py",
   "mimetype": "text/x-python",
   "name": "python",
   "nbconvert_exporter": "python",
   "pygments_lexer": "ipython3",
   "version": "3.11.3"
  }
 },
 "nbformat": 4,
 "nbformat_minor": 5
}
