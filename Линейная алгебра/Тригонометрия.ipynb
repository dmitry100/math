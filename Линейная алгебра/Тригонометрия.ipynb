{
 "cells": [
  {
   "cell_type": "code",
   "execution_count": 1,
   "id": "1a80451c",
   "metadata": {},
   "outputs": [],
   "source": [
    "import numpy as np"
   ]
  },
  {
   "cell_type": "code",
   "execution_count": null,
   "id": "ac416b48",
   "metadata": {},
   "outputs": [],
   "source": []
  },
  {
   "cell_type": "code",
   "execution_count": null,
   "id": "bd25304e",
   "metadata": {},
   "outputs": [],
   "source": []
  },
  {
   "cell_type": "code",
   "execution_count": 2,
   "id": "66830b1b",
   "metadata": {},
   "outputs": [
    {
     "name": "stdout",
     "output_type": "stream",
     "text": [
      "0.7071067811865476 0.7071067811865476 0.9999999999999999\n",
      "0.8910065241883679 -0.45399049973954675 -1.962610505505151\n"
     ]
    }
   ],
   "source": [
    "alpha = np.pi / 4  # перед pi обязательно дописать np.\n",
    "beta = np.deg2rad(117)  # перевод в радианы\n",
    "print(np.sin(alpha), np.cos(alpha), np.tan(alpha))\n",
    "print(np.sin(beta), np.cos(beta), np.tan(beta)) "
   ]
  },
  {
   "cell_type": "code",
   "execution_count": null,
   "id": "4850b956",
   "metadata": {},
   "outputs": [],
   "source": []
  },
  {
   "cell_type": "code",
   "execution_count": null,
   "id": "819b3287",
   "metadata": {},
   "outputs": [],
   "source": []
  },
  {
   "cell_type": "code",
   "execution_count": 4,
   "id": "91e22c72",
   "metadata": {},
   "outputs": [],
   "source": [
    "#Вычислим арксинус и арккосинус x = -5/12 \n",
    "#и переведём значение в градусы.\n"
   ]
  },
  {
   "cell_type": "code",
   "execution_count": 5,
   "id": "b1050ab9",
   "metadata": {},
   "outputs": [
    {
     "name": "stdout",
     "output_type": "stream",
     "text": [
      "-24.624318352164078\n",
      "114.62431835216408\n"
     ]
    }
   ],
   "source": [
    "x = -5 / 12\n",
    "alpha = np.arcsin(x)\n",
    "beta = np.arccos(x)\n",
    "print(np.rad2deg(alpha))\n",
    "print(np.rad2deg(beta))"
   ]
  }
 ],
 "metadata": {
  "kernelspec": {
   "display_name": "Python 3 (ipykernel)",
   "language": "python",
   "name": "python3"
  },
  "language_info": {
   "codemirror_mode": {
    "name": "ipython",
    "version": 3
   },
   "file_extension": ".py",
   "mimetype": "text/x-python",
   "name": "python",
   "nbconvert_exporter": "python",
   "pygments_lexer": "ipython3",
   "version": "3.11.3"
  }
 },
 "nbformat": 4,
 "nbformat_minor": 5
}
