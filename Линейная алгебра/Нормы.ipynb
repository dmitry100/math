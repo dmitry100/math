{
 "cells": [
  {
   "cell_type": "code",
   "execution_count": 1,
   "id": "471ef8bb",
   "metadata": {},
   "outputs": [],
   "source": [
    "from numpy.linalg import norm\n",
    "from numpy import array\n",
    "from numpy  import inf"
   ]
  },
  {
   "cell_type": "markdown",
   "id": "0ae6737e",
   "metadata": {},
   "source": [
    "##### L1 норма"
   ]
  },
  {
   "cell_type": "code",
   "execution_count": 2,
   "id": "7a7354d9",
   "metadata": {},
   "outputs": [
    {
     "data": {
      "text/plain": [
       "163.0"
      ]
     },
     "execution_count": 2,
     "metadata": {},
     "output_type": "execute_result"
    }
   ],
   "source": [
    "k = array([25, -41, -31, 66])\n",
    "norm(k, 1)"
   ]
  },
  {
   "cell_type": "markdown",
   "id": "616e93f2",
   "metadata": {},
   "source": [
    "##### L2 норма"
   ]
  },
  {
   "cell_type": "code",
   "execution_count": 3,
   "id": "6108af2d",
   "metadata": {},
   "outputs": [
    {
     "data": {
      "text/plain": [
       "87.30979326513149"
      ]
     },
     "execution_count": 3,
     "metadata": {},
     "output_type": "execute_result"
    }
   ],
   "source": [
    "k = array([25, -41, -31, 66])\n",
    "norm(k, 2)"
   ]
  },
  {
   "cell_type": "markdown",
   "id": "d9401cb4",
   "metadata": {},
   "source": [
    "##### Максимальная норма"
   ]
  },
  {
   "cell_type": "code",
   "execution_count": 4,
   "id": "91abaaa5",
   "metadata": {},
   "outputs": [
    {
     "data": {
      "text/plain": [
       "66.0"
      ]
     },
     "execution_count": 4,
     "metadata": {},
     "output_type": "execute_result"
    }
   ],
   "source": [
    "k = array([25, -41, -31, 66])\n",
    "norm(k, inf)"
   ]
  },
  {
   "cell_type": "markdown",
   "id": "8eaf323e",
   "metadata": {},
   "source": [
    "- Чтобы изменить значение L2 нормы, лучше менять её наибольшие по модулю компоненты. \n",
    "  \n",
    "- Чтобы изменить значение L1нормы, неважно, какие компоненты менять (если у вектора не возникает отрицательных компонент).\n",
    "\n",
    "- Если мы запрещаем себе обнулять компоненты и при этом хотим изменить норму вектора, то лучше оценивать это изменение в L2 норме"
   ]
  },
  {
   "cell_type": "code",
   "execution_count": null,
   "id": "1231f4e4",
   "metadata": {},
   "outputs": [],
   "source": []
  },
  {
   "cell_type": "markdown",
   "id": "5e6d2300",
   "metadata": {},
   "source": [
    "##### Как найти угол между векторами?"
   ]
  },
  {
   "cell_type": "code",
   "execution_count": 4,
   "id": "a31c67dc",
   "metadata": {},
   "outputs": [
    {
     "name": "stdout",
     "output_type": "stream",
     "text": [
      "Косинус угла между векторами: 0.8925339417277717\n",
      "Угол: 26.80659154352711\n"
     ]
    }
   ],
   "source": [
    "#найдем косинус угла между векторами a и b\n",
    "\n",
    "from numpy.linalg import norm\n",
    "from numpy import arccos  # Вызываем арккосинус, чтобы вычислить угол.\n",
    "from numpy import rad2deg  # И вызываем перевод из радиан в градусы.\n",
    "from numpy import array\n",
    "\n",
    "a = array([4, 8, 17])\n",
    "b = array([-2, 3, 7])\n",
    "\n",
    "cos_angle = a @ b / norm(a) / norm(b)  # Считаем косинус.\n",
    "angle = arccos(cos_angle)  # Вычисляем арккосинус в радианах.\n",
    "print(\"Косинус угла между векторами:\",cos_angle)  # Выводим косинус.\n",
    "print(\"Угол:\", rad2deg(angle))  # Выводим сам угол в градусах. "
   ]
  },
  {
   "cell_type": "code",
   "execution_count": null,
   "id": "06e0e2f9",
   "metadata": {},
   "outputs": [],
   "source": []
  },
  {
   "cell_type": "code",
   "execution_count": 5,
   "id": "208b36d5",
   "metadata": {},
   "outputs": [
    {
     "name": "stdout",
     "output_type": "stream",
     "text": [
      "Косинус угла между AB и AC: 0.3162277660168379\n",
      "Сам угол: 71.56505117707799\n"
     ]
    }
   ],
   "source": [
    "#найти угол в треугольнике ABC\n",
    "from numpy import array\n",
    "from numpy import arccos \n",
    "from numpy import rad2deg \n",
    "from numpy.linalg import norm\n",
    "\n",
    "OA = array([-5, 4])\n",
    "OB = array([1, 6])\n",
    "OC = array([-2, 0])\n",
    "AB = OB - OA #находим интересующий вектор с помощью разности \n",
    "AC = OC - OA\n",
    "cos_angle = AB @ AC / norm(AB) / norm(AC)\n",
    "angle = arccos(cos_angle) \n",
    "print(\"Косинус угла между AB и AC:\", cos_angle)\n",
    "print(\"Сам угол:\", rad2deg(angle)) "
   ]
  }
 ],
 "metadata": {
  "kernelspec": {
   "display_name": "Python 3 (ipykernel)",
   "language": "python",
   "name": "python3"
  },
  "language_info": {
   "codemirror_mode": {
    "name": "ipython",
    "version": 3
   },
   "file_extension": ".py",
   "mimetype": "text/x-python",
   "name": "python",
   "nbconvert_exporter": "python",
   "pygments_lexer": "ipython3",
   "version": "3.11.3"
  }
 },
 "nbformat": 4,
 "nbformat_minor": 5
}
