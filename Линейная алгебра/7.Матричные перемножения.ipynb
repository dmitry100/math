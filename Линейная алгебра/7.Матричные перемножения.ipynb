{
 "cells": [
  {
   "cell_type": "markdown",
   "id": "ca3b14d5",
   "metadata": {},
   "source": [
    "умножение происходит строка - на столбец. AB != BA. Кол-во столбцов A == кол-во строк B"
   ]
  },
  {
   "cell_type": "code",
   "execution_count": 1,
   "id": "710f1ff2",
   "metadata": {},
   "outputs": [],
   "source": [
    "import numpy as np"
   ]
  },
  {
   "cell_type": "code",
   "execution_count": 3,
   "id": "53c51b5d",
   "metadata": {},
   "outputs": [],
   "source": [
    "W = np.array([\n",
    "    [-15, 2, 0, 4],\n",
    "    [-8, 1, 10, 5], \n",
    "    [6, 9, -4, 3],\n",
    "    [-1, 5, 21, 6]\n",
    "])\n",
    "\n",
    "K = np.array([\n",
    "    [0, -5, 1, 3],\n",
    "  [0, 2, 4, 0],\n",
    "  [-15, 3, 7, 2],\n",
    "  [9, -6, 3, 12]\n",
    "])\n",
    "\n",
    "Y = np.array([\n",
    "    [9, -7],\n",
    "  [2, 31], \n",
    "  [0, 4], \n",
    "  [-1, -6]\n",
    "])"
   ]
  },
  {
   "cell_type": "code",
   "execution_count": 4,
   "id": "b4a5725c",
   "metadata": {},
   "outputs": [
    {
     "name": "stdout",
     "output_type": "stream",
     "text": [
      "Произведение WK:\n",
      "[[  36   55    5    3]\n",
      " [-105   42   81   56]\n",
      " [  87  -42   23   46]\n",
      " [-261   42  184  111]]\n",
      "\n",
      "Произведение YW:\n",
      "no\n",
      "\n",
      "Произведение KY:\n",
      "[[ -13 -169]\n",
      " [   4   78]\n",
      " [-131  214]\n",
      " [  57 -309]]\n",
      "\n",
      "Произведение KW:\n",
      "[[ 43  19   9  -4]\n",
      " [  8  38   4  22]\n",
      " [241  46  44 -12]\n",
      " [-81  99 180  87]]\n"
     ]
    }
   ],
   "source": [
    "print(\"Произведение WK:\")\n",
    "print(W @ K)\n",
    "print()\n",
    "print(\"Произведение YW:\")\n",
    "print('no')\n",
    "print()\n",
    "print(\"Произведение KY:\")\n",
    "print(K @ Y)\n",
    "print()\n",
    "print(\"Произведение KW:\")\n",
    "print(K @ W)"
   ]
  },
  {
   "cell_type": "code",
   "execution_count": null,
   "id": "f6b36507",
   "metadata": {},
   "outputs": [],
   "source": []
  },
  {
   "cell_type": "markdown",
   "id": "552e79c9",
   "metadata": {},
   "source": [
    "#### Практика"
   ]
  },
  {
   "cell_type": "code",
   "execution_count": 7,
   "id": "085e5f3f",
   "metadata": {},
   "outputs": [
    {
     "name": "stdout",
     "output_type": "stream",
     "text": [
      "[[  6 -17  15   3  15 -44   9  13 -58]]\n"
     ]
    }
   ],
   "source": [
    "A = np.array([\n",
    "            [-1, 0, 5],\n",
    "            [2, -3, 1],\n",
    "            [0, 4, -6]\n",
    "            ])\n",
    "\n",
    "B = np.array([\n",
    "    [0, 3, -2],\n",
    "    [-5, -1, 3],\n",
    "    [-7, 1, 4]\n",
    "])\n",
    "\n",
    "print((B @ A).reshape(1, 9))"
   ]
  },
  {
   "cell_type": "code",
   "execution_count": null,
   "id": "9e0fe562",
   "metadata": {},
   "outputs": [],
   "source": []
  },
  {
   "cell_type": "code",
   "execution_count": 8,
   "id": "357e150d",
   "metadata": {},
   "outputs": [
    {
     "name": "stdout",
     "output_type": "stream",
     "text": [
      "Произведение KS:\n",
      "[[ 71 246 154]\n",
      " [  7 201  27]\n",
      " [ 37 192 245]]\n",
      "\n",
      "Произведение RS:\n",
      "[[ 37 123 219]\n",
      " [ 92 124 184]\n",
      " [ 33  38 134]\n",
      " [ 91 243 239]\n",
      " [203 309 335]]\n",
      "\n",
      "Произведение RKS:\n",
      "no\n",
      "\n",
      "Произведение SKR:\n",
      "[[ 448 2273 2491 2813 2081]\n",
      " [-116 3383 2863 2948 2704]\n",
      " [1016 3292 3716 3712 2992]\n",
      " [  60 2349 2025 1894 1866]\n",
      " [ 798 2898 3426 3963 2771]]\n"
     ]
    }
   ],
   "source": [
    "K = np.array( [[4, 8, 0, 12, 3],\n",
    "                [2, 8, -6, 9, 1],\n",
    "                [7, 6, 1, 0, 10]])\n",
    "\n",
    "\n",
    "S = np.array([[1, 6, 9],\n",
    "              [2, 15, 5],\n",
    "              [8, 0, 12],\n",
    "              [4, 7, 3],\n",
    "              [1, 6, 14]])\n",
    " \n",
    "R = np.array([[8, 0, 1, 3, 9],\n",
    "  [-2, 7, 9, 1, 4],\n",
    "  [6, 3, 6, -7, 1],\n",
    "  [0, 12, 6, 3, 7],\n",
    "  [2, 8, 12, 21, 5]])\n",
    " \n",
    "\n",
    "\n",
    "# допишите код здесь\n",
    "print(\"Произведение KS:\")\n",
    "print(K@S)\n",
    "print()\n",
    "print(\"Произведение RS:\")\n",
    "print(R@S)\n",
    "print()\n",
    "print(\"Произведение RKS:\")\n",
    "print('no')\n",
    "print()\n",
    "print(\"Произведение SKR:\")\n",
    "print(S @ K @ R)"
   ]
  },
  {
   "cell_type": "code",
   "execution_count": null,
   "id": "14919835",
   "metadata": {},
   "outputs": [],
   "source": []
  },
  {
   "cell_type": "code",
   "execution_count": 4,
   "id": "a590e815",
   "metadata": {},
   "outputs": [
    {
     "data": {
      "text/plain": [
       "array([[-99. ,  68. , 180. ],\n",
       "       [-68.5,  24. ,  94. ],\n",
       "       [-62. ,  48. , 128. ]])"
      ]
     },
     "execution_count": 4,
     "metadata": {},
     "output_type": "execute_result"
    }
   ],
   "source": [
    "#КР\n",
    "A = np.array([[-2, 6, 4],\n",
    "             [1, 0, 5],\n",
    "             [0, 4, 2]])\n",
    "B = np.array([[-6, 0, 0],\n",
    "             [0.5, 1, 4],\n",
    "             [-2, 1, 2]])\n",
    "C = np.array([[0.5, 3, 1],\n",
    "             [-1, 2, 8],\n",
    "             [2.5, 4, 0]])\n",
    "\n",
    "A @ C @ B"
   ]
  },
  {
   "cell_type": "code",
   "execution_count": 5,
   "id": "b6a401bb",
   "metadata": {},
   "outputs": [
    {
     "name": "stdout",
     "output_type": "stream",
     "text": [
      "Произведение Za:\n",
      "[[ 20]\n",
      " [ 32]\n",
      " [-18]\n",
      " [ 14]]\n",
      "\n",
      "Произведение CM:\n",
      "[[ -6 -44  50]\n",
      " [ 31 -80 -22]\n",
      " [  4 109  87]\n",
      " [ 20  15 137]]\n",
      "\n",
      "Произведение a^TM:\n",
      "[[ 16 174  60]]\n",
      "\n",
      "Произведение CZ:\n",
      "[[ 14  26  -6  44]\n",
      " [  5  61 101   4]\n",
      " [ 13  29 -81  52]\n",
      " [ 23 103   5  76]]\n"
     ]
    }
   ],
   "source": [
    "a = np.array([8, -3, 1, 6])\n",
    "\n",
    "  \n",
    "C = np.array([[0, 6, -4, 2],\n",
    "  [1, 8, 7, -12],\n",
    "  [5, 0, -2, 8],\n",
    "  [3, 8, 2, 4]])\n",
    "   \n",
    "\n",
    "Z = np.array([[1, 1, -9, 4],\n",
    "  [2, 8, 4, 6],\n",
    "  [0, 8, 6, 0],\n",
    "  [1, 5, -3, 4]])\n",
    "              \n",
    "M = np.array([[2, 15, 1],\n",
    "  [1, -7, 9],\n",
    "  [3, 3, 7], \n",
    "  [0, 5, 12]])\n",
    "\n",
    "# допишите код здесь\n",
    "print(\"Произведение Za:\")\n",
    "print(Z @ a.reshape(4, 1))\n",
    "print()\n",
    "print(\"Произведение CM:\")\n",
    "print(C @ M)\n",
    "print()\n",
    "print(\"Произведение a^TM:\")\n",
    "print(a.T.reshape(1,4) @ M)\n",
    "print()\n",
    "print(\"Произведение CZ:\")\n",
    "print(C @ Z)"
   ]
  }
 ],
 "metadata": {
  "kernelspec": {
   "display_name": "Python 3 (ipykernel)",
   "language": "python",
   "name": "python3"
  },
  "language_info": {
   "codemirror_mode": {
    "name": "ipython",
    "version": 3
   },
   "file_extension": ".py",
   "mimetype": "text/x-python",
   "name": "python",
   "nbconvert_exporter": "python",
   "pygments_lexer": "ipython3",
   "version": "3.11.3"
  }
 },
 "nbformat": 4,
 "nbformat_minor": 5
}
