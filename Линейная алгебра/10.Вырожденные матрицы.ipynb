{
 "cells": [
  {
   "cell_type": "markdown",
   "id": "784b3239",
   "metadata": {},
   "source": [
    "Такие матрицы, укоторых определитель равен 0"
   ]
  },
  {
   "cell_type": "code",
   "execution_count": 1,
   "id": "1014521e",
   "metadata": {},
   "outputs": [
    {
     "name": "stdout",
     "output_type": "stream",
     "text": [
      "Определитель матрицы R:\n",
      "-0.0\n",
      "Определитель матрицы Q:\n",
      "0.0\n",
      "Определитель матрицы B:\n",
      "-764472.0\n"
     ]
    }
   ],
   "source": [
    "import numpy as np\n",
    "\n",
    "r = np.array([\n",
    "    [-8, 22, 6],\n",
    "    [4, 7, 11],\n",
    "    [-12, 15, -5]\n",
    "])\n",
    "det_r = np.linalg.det(r)\n",
    "print(\"Определитель матрицы R:\")\n",
    "print(det_r.round()) # Округление определителя до целых.\n",
    "q = np.array([\n",
    "    [1, -8, 34, 5],\n",
    "    [6, -9, 3, 8],\n",
    "    [1.5, -12, 51, 7.5],\n",
    "    [0, 17, -4, 2]\n",
    "])\n",
    "det_q = np.linalg.det(q)\n",
    "print(\"Определитель матрицы Q:\")\n",
    "print(det_q.round()) # Округление определителя до целых.\n",
    "b = np.array([\n",
    "        [7, -9, 2, 5, 3],\n",
    "        [4, 7, 11, -5, 1],\n",
    "        [9, 34, -2, 0, 4],\n",
    "        [-2, 5, 17, 9, -2],\n",
    "        [-8, 11, 0, 31, 7],\n",
    "])\n",
    "det_b = np.linalg.det(b)\n",
    "print(\"Определитель матрицы B:\")\n",
    "print(det_b.round()) # Округление определителя до целых."
   ]
  },
  {
   "cell_type": "markdown",
   "id": "e45ff050",
   "metadata": {},
   "source": [
    "R и Q вырожденные"
   ]
  }
 ],
 "metadata": {
  "kernelspec": {
   "display_name": "Python 3 (ipykernel)",
   "language": "python",
   "name": "python3"
  },
  "language_info": {
   "codemirror_mode": {
    "name": "ipython",
    "version": 3
   },
   "file_extension": ".py",
   "mimetype": "text/x-python",
   "name": "python",
   "nbconvert_exporter": "python",
   "pygments_lexer": "ipython3",
   "version": "3.11.3"
  }
 },
 "nbformat": 4,
 "nbformat_minor": 5
}
