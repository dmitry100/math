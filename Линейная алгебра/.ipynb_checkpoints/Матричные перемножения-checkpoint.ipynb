{
 "cells": [
  {
   "cell_type": "markdown",
   "id": "ca3b14d5",
   "metadata": {},
   "source": [
    "умножение происходит строка - на столбец. AB != BA. Кол-во столбцов A == кол-во строк B"
   ]
  },
  {
   "cell_type": "code",
   "execution_count": 2,
   "id": "710f1ff2",
   "metadata": {},
   "outputs": [],
   "source": [
    "import numpy as np\n",
    "\n"
   ]
  },
  {
   "cell_type": "code",
   "execution_count": 3,
   "id": "53c51b5d",
   "metadata": {},
   "outputs": [],
   "source": [
    "W = np.array([\n",
    "    [-15, 2, 0, 4],\n",
    "    [-8, 1, 10, 5], \n",
    "    [6, 9, -4, 3],\n",
    "    [-1, 5, 21, 6]\n",
    "])\n",
    "\n",
    "K = np.array([\n",
    "    [0, -5, 1, 3],\n",
    "  [0, 2, 4, 0],\n",
    "  [-15, 3, 7, 2],\n",
    "  [9, -6, 3, 12]\n",
    "])\n",
    "\n",
    "Y = np.array([\n",
    "    [9, -7],\n",
    "  [2, 31], \n",
    "  [0, 4], \n",
    "  [-1, -6]\n",
    "])"
   ]
  },
  {
   "cell_type": "code",
   "execution_count": 4,
   "id": "b4a5725c",
   "metadata": {},
   "outputs": [
    {
     "name": "stdout",
     "output_type": "stream",
     "text": [
      "Произведение WK:\n",
      "[[  36   55    5    3]\n",
      " [-105   42   81   56]\n",
      " [  87  -42   23   46]\n",
      " [-261   42  184  111]]\n",
      "\n",
      "Произведение YW:\n",
      "no\n",
      "\n",
      "Произведение KY:\n",
      "[[ -13 -169]\n",
      " [   4   78]\n",
      " [-131  214]\n",
      " [  57 -309]]\n",
      "\n",
      "Произведение KW:\n",
      "[[ 43  19   9  -4]\n",
      " [  8  38   4  22]\n",
      " [241  46  44 -12]\n",
      " [-81  99 180  87]]\n"
     ]
    }
   ],
   "source": [
    "print(\"Произведение WK:\")\n",
    "print(W @ K)\n",
    "print()\n",
    "print(\"Произведение YW:\")\n",
    "print('no')\n",
    "print()\n",
    "print(\"Произведение KY:\")\n",
    "print(K @ Y)\n",
    "print()\n",
    "print(\"Произведение KW:\")\n",
    "print(K @ W)"
   ]
  }
 ],
 "metadata": {
  "kernelspec": {
   "display_name": "Python 3 (ipykernel)",
   "language": "python",
   "name": "python3"
  },
  "language_info": {
   "codemirror_mode": {
    "name": "ipython",
    "version": 3
   },
   "file_extension": ".py",
   "mimetype": "text/x-python",
   "name": "python",
   "nbconvert_exporter": "python",
   "pygments_lexer": "ipython3",
   "version": "3.11.3"
  }
 },
 "nbformat": 4,
 "nbformat_minor": 5
}
