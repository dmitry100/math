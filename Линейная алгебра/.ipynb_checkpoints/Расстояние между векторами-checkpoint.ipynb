{
 "cells": [
  {
   "cell_type": "markdown",
   "id": "87de12c6",
   "metadata": {},
   "source": [
    "**Расстояние между векторами** равно норме вектора их разности"
   ]
  },
  {
   "cell_type": "code",
   "execution_count": 1,
   "id": "bdbb2a53",
   "metadata": {},
   "outputs": [],
   "source": [
    "from numpy import array\n",
    "from numpy import inf\n",
    "from numpy.linalg import norm"
   ]
  },
  {
   "cell_type": "code",
   "execution_count": 2,
   "id": "ded38644",
   "metadata": {},
   "outputs": [
    {
     "name": "stdout",
     "output_type": "stream",
     "text": [
      "L1 расстояние между векторами a и b: 70.6\n",
      "L2 расстояние между векторами a и b: 41.85522667481327\n",
      "Максимальное расстояние между векторами a и b: 38.1\n"
     ]
    }
   ],
   "source": [
    "a = array([22, 4, -6, 3.9, 7])\n",
    "b = array([12, -0.5, 6, 42, 1])\n",
    "r_1 = norm(a - b, 1)  # Вычисление L1 расстояния.\n",
    "r_2 = norm(a - b, 2)  # Вычисление L2 расстояния.\n",
    "r_max = norm(a - b, inf)  # Вычисление максимального расстояния.\n",
    "\n",
    "print(\"L1 расстояние между векторами a и b:\", r_1)  # Вывод на экран L1 расстояния.\n",
    "print(\"L2 расстояние между векторами a и b:\", r_2)  # Вывод на экран L2 расстояния.\n",
    "print(\n",
    "    \"Максимальное расстояние между векторами a и b:\", r_max\n",
    ")  # Вывод на экран максимального расстояния. "
   ]
  },
  {
   "cell_type": "code",
   "execution_count": null,
   "id": "0d3ab490",
   "metadata": {},
   "outputs": [],
   "source": []
  },
  {
   "cell_type": "markdown",
   "id": "0cd4d8de",
   "metadata": {},
   "source": [
    "Сравнить 3 клиентов.\n",
    "\n",
    "Чаще всего сравнивают с помощью **евклидова** расстояния"
   ]
  },
  {
   "cell_type": "code",
   "execution_count": 3,
   "id": "03799f46",
   "metadata": {},
   "outputs": [
    {
     "name": "stdout",
     "output_type": "stream",
     "text": [
      "Клиенты 1 и 2: 28.81405906844782\n",
      "Клиенты 1 и 3: 12.32720568498798\n",
      "Клиенты 2 и 3: 16.900000000000002\n"
     ]
    }
   ],
   "source": [
    "k_1 = array([10, 1.3, 2, 45])\n",
    "k_2 = array([20, 0.8, 3, 72])\n",
    "k_3 = array([15, 2.7, 4, 56])\n",
    "\n",
    "r_1_2 = norm(k_1 - k_2) # При вычислении евклидовой нормы можно не указывать номер.\n",
    "r_1_3 = norm(k_1 - k_3)\n",
    "r_2_3 = norm(k_2 - k_3)\n",
    "print(\"Клиенты 1 и 2:\", r_1_2) \n",
    "print(\"Клиенты 1 и 3:\", r_1_3)\n",
    "print(\"Клиенты 2 и 3:\", r_2_3) "
   ]
  },
  {
   "cell_type": "markdown",
   "id": "0278b49e",
   "metadata": {},
   "source": [
    "Ближе всего 1 и 3. Но все значения далеки друг от друга, а значит, на самом деле сходств между данными мало."
   ]
  },
  {
   "cell_type": "code",
   "execution_count": null,
   "id": "55e8af11",
   "metadata": {},
   "outputs": [],
   "source": []
  },
  {
   "cell_type": "markdown",
   "id": "65617fe7",
   "metadata": {},
   "source": [
    "# Косинусное расстояние"
   ]
  },
  {
   "cell_type": "markdown",
   "id": "3702de3c",
   "metadata": {},
   "source": [
    "## Оценка  текста"
   ]
  },
  {
   "cell_type": "markdown",
   "id": "602373d3",
   "metadata": {},
   "source": [
    "1) Эти огурцы горькие, не понравились. Вердикт - не брать.\n",
    "2) Огурцы отстой, не вкусные.\n",
    "3) Супер, хрустят, рекомендую! "
   ]
  },
  {
   "cell_type": "code",
   "execution_count": 4,
   "id": "8d28a212",
   "metadata": {},
   "outputs": [
    {
     "name": "stdout",
     "output_type": "stream",
     "text": [
      "Отзывы 1 и 2: 2.8284271247461903\n",
      "Отзывы 1 и 3: 3.605551275463989\n",
      "Отзывы 2 и 3: 2.6457513110645907\n"
     ]
    }
   ],
   "source": [
    "#Посчтаем евклидово расстояние\n",
    "\n",
    "o_1 = array([1, 1, 1, 0, 0, 2, 1, 0, 0, 1, 1, 0])\n",
    "o_2 = array([0, 1, 0, 1, 0, 1, 0, 1, 0, 0, 0, 0])\n",
    "o_3 = array([0, 0, 0, 0, 1, 0, 0, 0, 1, 0, 0, 1])\n",
    "\n",
    "r_1_2 = norm(o_1 - o_2)\n",
    "r_1_3 = norm(o_1 - o_3)\n",
    "r_2_3 = norm(o_2 - o_3)\n",
    "print(\"Отзывы 1 и 2:\", r_1_2)\n",
    "print(\"Отзывы 1 и 3:\", r_1_3)\n",
    "print(\"Отзывы 2 и 3:\", r_2_3) "
   ]
  },
  {
   "cell_type": "markdown",
   "id": "4dde3669",
   "metadata": {},
   "source": [
    "чем **больше косинус**, тем **ближе** векторы друг к другу"
   ]
  },
  {
   "cell_type": "markdown",
   "id": "90077af5",
   "metadata": {},
   "source": [
    "но из за того, что 1 отзыв содерждит больше слов == больше ненулевы хначений в векторе. Косинусное расстояние не учитывает масштаб"
   ]
  },
  {
   "cell_type": "code",
   "execution_count": 5,
   "id": "b8d9367d",
   "metadata": {},
   "outputs": [
    {
     "name": "stdout",
     "output_type": "stream",
     "text": [
      "Отзывы 1 и 2: 0.4743416490252569\n",
      "Отзывы 1 и 3: 0.0\n",
      "Отзывы 2 и 3: 0.0\n"
     ]
    }
   ],
   "source": [
    "o_1 = array([1, 1, 1, 0, 0, 2, 1, 0, 0, 1, 1, 0])\n",
    "o_2 = array([0, 1, 0, 1, 0, 1, 0, 1, 0, 0, 0, 0])\n",
    "o_3 = array([0, 0, 0, 0, 1, 0, 0, 0, 1, 0, 0, 1])\n",
    "cos_1_2 = o_1 @ o_2 / norm(o_1) / norm(o_2)\n",
    "cos_1_3 = o_1 @ o_3 / norm(o_1) / norm(o_3)\n",
    "cos_2_3 = o_2 @ o_3 / norm(o_2) / norm(o_3)\n",
    "print(\"Отзывы 1 и 2:\", cos_1_2)\n",
    "print(\"Отзывы 1 и 3:\", cos_1_3)\n",
    "print(\"Отзывы 2 и 3:\", cos_2_3) "
   ]
  },
  {
   "cell_type": "markdown",
   "id": "211f68c6",
   "metadata": {},
   "source": [
    "Ближе всего 1 и  2 отзыв"
   ]
  },
  {
   "cell_type": "code",
   "execution_count": null,
   "id": "d651a3a0",
   "metadata": {},
   "outputs": [],
   "source": []
  },
  {
   "cell_type": "code",
   "execution_count": 6,
   "id": "4e807327",
   "metadata": {},
   "outputs": [
    {
     "name": "stdout",
     "output_type": "stream",
     "text": [
      "Отзывы 1 и новый: 0.6172133998483676\n",
      "Отзывы 2 и новый: 0.46291004988627577\n",
      "Отзывы 3 и новый: 0.0\n"
     ]
    }
   ],
   "source": [
    "#есть 3 отзыва. Пришел новый, нужно найти на кого похож\n",
    "\n",
    "a = array([1, 1, 1, 1, 1, 1, 0, 0, 0, 0, 0, 0, 0, 0, 0, 0])\n",
    "b = array([1, 1, 0, 0, 0, 1, 1, 1, 1, 0, 0, 0, 0, 0, 0, 0])\n",
    "c = array([0, 0, 0, 0, 1, 0, 0, 0, 0, 1, 1, 1, 1, 0, 0, 0])\n",
    "new = array([1, 1, 1, 0, 0, 1, 0, 0, 0, 0, 0, 0, 0, 1, 1, 1])\n",
    "\n",
    "cos_1_new = a @ new / norm(a) / norm(new)\n",
    "cos_2_new = b @ new / norm(b) / norm(new)\n",
    "cos_3_new = c @ new / norm(c) / norm(new)\n",
    "print(\"Отзывы 1 и новый:\", cos_1_new)\n",
    "print(\"Отзывы 2 и новый:\", cos_2_new)\n",
    "print(\"Отзывы 3 и новый:\", cos_3_new)"
   ]
  },
  {
   "cell_type": "code",
   "execution_count": null,
   "id": "4376bc1f",
   "metadata": {},
   "outputs": [],
   "source": [
    "на 1 т.к. кос больше"
   ]
  }
 ],
 "metadata": {
  "kernelspec": {
   "display_name": "Python 3 (ipykernel)",
   "language": "python",
   "name": "python3"
  },
  "language_info": {
   "codemirror_mode": {
    "name": "ipython",
    "version": 3
   },
   "file_extension": ".py",
   "mimetype": "text/x-python",
   "name": "python",
   "nbconvert_exporter": "python",
   "pygments_lexer": "ipython3",
   "version": "3.11.3"
  }
 },
 "nbformat": 4,
 "nbformat_minor": 5
}
