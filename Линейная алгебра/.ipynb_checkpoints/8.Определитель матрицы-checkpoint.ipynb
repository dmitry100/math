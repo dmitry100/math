{
 "cells": [
  {
   "cell_type": "code",
   "execution_count": 1,
   "id": "7d5dfa53",
   "metadata": {},
   "outputs": [],
   "source": [
    "import numpy as np"
   ]
  },
  {
   "cell_type": "code",
   "execution_count": 2,
   "id": "e63631ab",
   "metadata": {},
   "outputs": [
    {
     "name": "stdout",
     "output_type": "stream",
     "text": [
      "Матрица:\n",
      "[[14 -8]\n",
      " [ 2  3]]\n",
      "Определитель:\n",
      "57.999999999999986\n"
     ]
    }
   ],
   "source": [
    "a = np.array([\n",
    "    [14, -8],\n",
    "    [2, 3]\n",
    "])\n",
    "det = np.linalg.det(a)\n",
    "print(\"Матрица:\")\n",
    "print(a)\n",
    "print(\"Определитель:\")\n",
    "print(det) "
   ]
  },
  {
   "cell_type": "code",
   "execution_count": null,
   "id": "445ef866",
   "metadata": {},
   "outputs": [],
   "source": []
  },
  {
   "cell_type": "markdown",
   "id": "49a56318",
   "metadata": {},
   "source": [
    "##### КР"
   ]
  },
  {
   "cell_type": "code",
   "execution_count": 2,
   "id": "58ed686e",
   "metadata": {},
   "outputs": [
    {
     "name": "stdout",
     "output_type": "stream",
     "text": [
      "Матрица:\n",
      "[[ 3.4  0.9]\n",
      " [ 2.7 -0.1]]\n",
      "Определитель:\n",
      "-2.77\n"
     ]
    }
   ],
   "source": [
    "a = np.array([\n",
    "    [3.4, 0.9],\n",
    "    [2.7, -0.1]\n",
    "])\n",
    "det = np.linalg.det(a)\n",
    "print(\"Матрица:\")\n",
    "print(a)\n",
    "print(\"Определитель:\")\n",
    "print(det) "
   ]
  },
  {
   "cell_type": "code",
   "execution_count": 4,
   "id": "2cc7db8f",
   "metadata": {},
   "outputs": [
    {
     "name": "stdout",
     "output_type": "stream",
     "text": [
      "Матрица:\n",
      "[[-3  0  5]\n",
      " [-2  1  8]\n",
      " [-9  6  3]]\n",
      "Определитель:\n",
      "120.00000000000009\n"
     ]
    }
   ],
   "source": [
    "a = np.array([\n",
    "    [-3, 0, 5],\n",
    "    [-2, 1, 8],\n",
    "    [-9, 6, 3]\n",
    "])\n",
    "det = np.linalg.det(a)\n",
    "print(\"Матрица:\")\n",
    "print(a)\n",
    "print(\"Определитель:\")\n",
    "print(det) "
   ]
  }
 ],
 "metadata": {
  "kernelspec": {
   "display_name": "Python 3 (ipykernel)",
   "language": "python",
   "name": "python3"
  },
  "language_info": {
   "codemirror_mode": {
    "name": "ipython",
    "version": 3
   },
   "file_extension": ".py",
   "mimetype": "text/x-python",
   "name": "python",
   "nbconvert_exporter": "python",
   "pygments_lexer": "ipython3",
   "version": "3.11.3"
  }
 },
 "nbformat": 4,
 "nbformat_minor": 5
}
