{
 "cells": [
  {
   "cell_type": "code",
   "execution_count": 1,
   "id": "7b47d7f5",
   "metadata": {},
   "outputs": [],
   "source": [
    "import numpy as np"
   ]
  },
  {
   "cell_type": "markdown",
   "id": "1bb1108d",
   "metadata": {},
   "source": [
    "##### шаг 1 - проверить, что кол-во строк и столбцов совпадает"
   ]
  },
  {
   "cell_type": "code",
   "execution_count": 2,
   "id": "bfef373c",
   "metadata": {},
   "outputs": [],
   "source": [
    "d = np.array([11, -6])\n",
    "h = np.array([-10, 0, 29])\n",
    "R = np.array([\n",
    "    [2, 18, 7],\n",
    "    [-5, 4, 8]\n",
    "])"
   ]
  },
  {
   "cell_type": "code",
   "execution_count": 7,
   "id": "557c835b",
   "metadata": {},
   "outputs": [
    {
     "data": {
      "text/plain": [
       "(3,)"
      ]
     },
     "execution_count": 7,
     "metadata": {},
     "output_type": "execute_result"
    }
   ],
   "source": [
    "h.shape"
   ]
  },
  {
   "cell_type": "code",
   "execution_count": 5,
   "id": "03374c6b",
   "metadata": {},
   "outputs": [
    {
     "data": {
      "text/plain": [
       "(2, 3)"
      ]
     },
     "execution_count": 5,
     "metadata": {},
     "output_type": "execute_result"
    }
   ],
   "source": [
    "R.shape"
   ]
  },
  {
   "cell_type": "markdown",
   "id": "66066922",
   "metadata": {},
   "source": [
    "##### шаг 2 Записать вектор в матрицу"
   ]
  },
  {
   "cell_type": "code",
   "execution_count": 9,
   "id": "a1d78ec1",
   "metadata": {
    "scrolled": true
   },
   "outputs": [
    {
     "data": {
      "text/plain": [
       "array([[-10],\n",
       "       [  0],\n",
       "       [ 29]])"
      ]
     },
     "execution_count": 9,
     "metadata": {},
     "output_type": "execute_result"
    }
   ],
   "source": [
    "h.reshape(3,1)"
   ]
  },
  {
   "cell_type": "markdown",
   "id": "b1c6914a",
   "metadata": {},
   "source": [
    "##### шаг 3 умножить"
   ]
  },
  {
   "cell_type": "code",
   "execution_count": 15,
   "id": "e69836fc",
   "metadata": {},
   "outputs": [
    {
     "data": {
      "text/plain": [
       "array([[183],\n",
       "       [282]])"
      ]
     },
     "execution_count": 15,
     "metadata": {},
     "output_type": "execute_result"
    }
   ],
   "source": [
    "R @ h.reshape(3,1)"
   ]
  }
 ],
 "metadata": {
  "kernelspec": {
   "display_name": "Python 3 (ipykernel)",
   "language": "python",
   "name": "python3"
  },
  "language_info": {
   "codemirror_mode": {
    "name": "ipython",
    "version": 3
   },
   "file_extension": ".py",
   "mimetype": "text/x-python",
   "name": "python",
   "nbconvert_exporter": "python",
   "pygments_lexer": "ipython3",
   "version": "3.11.3"
  }
 },
 "nbformat": 4,
 "nbformat_minor": 5
}
