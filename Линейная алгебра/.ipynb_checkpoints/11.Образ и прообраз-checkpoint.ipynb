{
 "cells": [
  {
   "cell_type": "code",
   "execution_count": 4,
   "id": "5ca35162",
   "metadata": {},
   "outputs": [],
   "source": [
    "import numpy as np"
   ]
  },
  {
   "cell_type": "code",
   "execution_count": 5,
   "id": "b012fcfe",
   "metadata": {},
   "outputs": [
    {
     "name": "stdout",
     "output_type": "stream",
     "text": [
      "Прообраз точки n:\n",
      "[[ 1.41176471]\n",
      " [-0.81045752]\n",
      " [ 0.7124183 ]]\n"
     ]
    }
   ],
   "source": [
    "n = np.array([-6, 2, 5])\n",
    "a = np.array([\n",
    "    [-7, 4, 10],\n",
    "    [5, 8, 2],\n",
    "    [-1, 0, 9]\n",
    "])\n",
    "b = np.linalg.inv(a)\n",
    "n_column = n.reshape(3, 1)\n",
    "m = b @ n_column\n",
    "print(\"Прообраз точки n:\")\n",
    "print(m) "
   ]
  },
  {
   "cell_type": "code",
   "execution_count": 6,
   "id": "f950e4ec",
   "metadata": {},
   "outputs": [
    {
     "name": "stdout",
     "output_type": "stream",
     "text": [
      "Проверка:\n",
      "[[-6.]\n",
      " [ 2.]\n",
      " [ 5.]]\n"
     ]
    }
   ],
   "source": [
    "print(\"Проверка:\")\n",
    "print(a @ m) "
   ]
  },
  {
   "cell_type": "code",
   "execution_count": null,
   "id": "a675ad86",
   "metadata": {},
   "outputs": [],
   "source": []
  },
  {
   "cell_type": "code",
   "execution_count": 7,
   "id": "be2755f8",
   "metadata": {},
   "outputs": [
    {
     "name": "stdout",
     "output_type": "stream",
     "text": [
      "Прообраз:\n",
      "[[ 20]\n",
      " [123]\n",
      " [165]\n",
      " [157]]\n",
      "Проверка:\n",
      "[[ 8.]\n",
      " [-4.]\n",
      " [ 1.]\n",
      " [15.]]\n"
     ]
    }
   ],
   "source": [
    "a = np.array(\n",
    " [[0, 17, -2, 6],\n",
    "  [7, 2, 15, 4],\n",
    "  [5, -8, 3, 6],\n",
    "  [0, -12, 4, 7]]\n",
    ")\n",
    "\n",
    "t = np.array([8, -4, 1, 15])\n",
    "s = a @ t.reshape(4, 1)\n",
    "\n",
    "# Допишите код здесь.\n",
    "print(\"Прообраз:\")\n",
    "print(s)\n",
    "print(\"Проверка:\")\n",
    "print(np.linalg.inv(a) @ s.reshape(4,1))"
   ]
  },
  {
   "cell_type": "code",
   "execution_count": null,
   "id": "b7626d15",
   "metadata": {},
   "outputs": [],
   "source": []
  },
  {
   "cell_type": "code",
   "execution_count": null,
   "id": "65ab5b2c",
   "metadata": {},
   "outputs": [],
   "source": []
  },
  {
   "cell_type": "markdown",
   "id": "5af35601",
   "metadata": {},
   "source": [
    "## Матрица линейного преоборазования в разных базисах"
   ]
  },
  {
   "cell_type": "markdown",
   "id": "9696473c",
   "metadata": {},
   "source": [
    "A=TA \n",
    "1\n",
    "​\n",
    " T \n",
    "−1"
   ]
  },
  {
   "cell_type": "markdown",
   "id": "84ca2f97",
   "metadata": {},
   "source": [
    "A \n",
    "1\n",
    "​\n",
    " =T \n",
    "−1\n",
    " AT"
   ]
  },
  {
   "cell_type": "code",
   "execution_count": 2,
   "id": "e1f44a5c",
   "metadata": {},
   "outputs": [
    {
     "name": "stdout",
     "output_type": "stream",
     "text": [
      "[[ 7. -3.  0.]\n",
      " [ 0.  1.  0.]\n",
      " [-4.  2.  1.]]\n"
     ]
    }
   ],
   "source": [
    "import numpy as np\n",
    "\n",
    "a = np.array([\n",
    "    [7, 0, 0],\n",
    "    [0, 1, 0],\n",
    "    [0, 0, 1]\n",
    "]) #матрица преобразорвания в исходном базисе\n",
    "t = np.array([\n",
    "    [2, -1, 0],\n",
    "    [1, 4, 2],\n",
    "    [-3, -1, -5] # Невырожденная матрица перехода к новому базису\n",
    "])\n",
    "s = np.linalg.inv(t) # Обратная матрица матрицы перехода.\n",
    "print((s @ a @ t).round()) # Матрица нового линейного преобразования с округлением."
   ]
  }
 ],
 "metadata": {
  "kernelspec": {
   "display_name": "Python 3 (ipykernel)",
   "language": "python",
   "name": "python3"
  },
  "language_info": {
   "codemirror_mode": {
    "name": "ipython",
    "version": 3
   },
   "file_extension": ".py",
   "mimetype": "text/x-python",
   "name": "python",
   "nbconvert_exporter": "python",
   "pygments_lexer": "ipython3",
   "version": "3.11.3"
  }
 },
 "nbformat": 4,
 "nbformat_minor": 5
}
