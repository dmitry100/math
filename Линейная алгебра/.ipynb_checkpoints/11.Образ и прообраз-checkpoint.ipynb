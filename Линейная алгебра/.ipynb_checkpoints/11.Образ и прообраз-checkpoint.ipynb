{
 "cells": [
  {
   "cell_type": "code",
   "execution_count": 4,
   "id": "5ca35162",
   "metadata": {},
   "outputs": [],
   "source": [
    "import numpy as np"
   ]
  },
  {
   "cell_type": "code",
   "execution_count": 5,
   "id": "b012fcfe",
   "metadata": {},
   "outputs": [
    {
     "name": "stdout",
     "output_type": "stream",
     "text": [
      "Прообраз точки n:\n",
      "[[ 1.41176471]\n",
      " [-0.81045752]\n",
      " [ 0.7124183 ]]\n"
     ]
    }
   ],
   "source": [
    "n = np.array([-6, 2, 5])\n",
    "a = np.array([\n",
    "    [-7, 4, 10],\n",
    "    [5, 8, 2],\n",
    "    [-1, 0, 9]\n",
    "])\n",
    "b = np.linalg.inv(a)\n",
    "n_column = n.reshape(3, 1)\n",
    "m = b @ n_column\n",
    "print(\"Прообраз точки n:\")\n",
    "print(m) "
   ]
  },
  {
   "cell_type": "code",
   "execution_count": 6,
   "id": "f950e4ec",
   "metadata": {},
   "outputs": [
    {
     "name": "stdout",
     "output_type": "stream",
     "text": [
      "Проверка:\n",
      "[[-6.]\n",
      " [ 2.]\n",
      " [ 5.]]\n"
     ]
    }
   ],
   "source": [
    "print(\"Проверка:\")\n",
    "print(a @ m) "
   ]
  },
  {
   "cell_type": "code",
   "execution_count": null,
   "id": "a675ad86",
   "metadata": {},
   "outputs": [],
   "source": []
  },
  {
   "cell_type": "code",
   "execution_count": 7,
   "id": "be2755f8",
   "metadata": {},
   "outputs": [
    {
     "name": "stdout",
     "output_type": "stream",
     "text": [
      "Прообраз:\n",
      "[[ 20]\n",
      " [123]\n",
      " [165]\n",
      " [157]]\n",
      "Проверка:\n",
      "[[ 8.]\n",
      " [-4.]\n",
      " [ 1.]\n",
      " [15.]]\n"
     ]
    }
   ],
   "source": [
    "a = np.array(\n",
    " [[0, 17, -2, 6],\n",
    "  [7, 2, 15, 4],\n",
    "  [5, -8, 3, 6],\n",
    "  [0, -12, 4, 7]]\n",
    ")\n",
    "\n",
    "t = np.array([8, -4, 1, 15])\n",
    "s = a @ t.reshape(4, 1)\n",
    "\n",
    "# Допишите код здесь.\n",
    "print(\"Прообраз:\")\n",
    "print(s)\n",
    "print(\"Проверка:\")\n",
    "print(np.linalg.inv(a) @ s.reshape(4,1))"
   ]
  }
 ],
 "metadata": {
  "kernelspec": {
   "display_name": "Python 3 (ipykernel)",
   "language": "python",
   "name": "python3"
  },
  "language_info": {
   "codemirror_mode": {
    "name": "ipython",
    "version": 3
   },
   "file_extension": ".py",
   "mimetype": "text/x-python",
   "name": "python",
   "nbconvert_exporter": "python",
   "pygments_lexer": "ipython3",
   "version": "3.11.3"
  }
 },
 "nbformat": 4,
 "nbformat_minor": 5
}
