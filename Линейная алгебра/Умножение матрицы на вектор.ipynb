{
 "cells": [
  {
   "cell_type": "code",
   "execution_count": 1,
   "id": "16db7e32",
   "metadata": {},
   "outputs": [],
   "source": [
    "import numpy as np"
   ]
  },
  {
   "cell_type": "markdown",
   "id": "5fb31c35",
   "metadata": {},
   "source": [
    "##### шаг 1 - проверить, что кол-во строк и столбцов совпадает"
   ]
  },
  {
   "cell_type": "code",
   "execution_count": 2,
   "id": "90e9d768",
   "metadata": {},
   "outputs": [],
   "source": [
    "d = np.array([11, -6])\n",
    "h = np.array([-10, 0, 29])\n",
    "R = np.array([\n",
    "    [2, 18, 7],\n",
    "    [-5, 4, 8]\n",
    "])"
   ]
  },
  {
   "cell_type": "code",
   "execution_count": 7,
   "id": "1c7ba78b",
   "metadata": {},
   "outputs": [
    {
     "data": {
      "text/plain": [
       "(3,)"
      ]
     },
     "execution_count": 7,
     "metadata": {},
     "output_type": "execute_result"
    }
   ],
   "source": [
    "h.shape"
   ]
  },
  {
   "cell_type": "code",
   "execution_count": 5,
   "id": "43d64345",
   "metadata": {},
   "outputs": [
    {
     "data": {
      "text/plain": [
       "(2, 3)"
      ]
     },
     "execution_count": 5,
     "metadata": {},
     "output_type": "execute_result"
    }
   ],
   "source": [
    "R.shape"
   ]
  },
  {
   "cell_type": "markdown",
   "id": "5d038026",
   "metadata": {},
   "source": [
    "##### шаг 2 Записать вектор в матрицу"
   ]
  },
  {
   "cell_type": "code",
   "execution_count": 9,
   "id": "1d3dafed",
   "metadata": {
    "scrolled": true
   },
   "outputs": [
    {
     "data": {
      "text/plain": [
       "array([[-10],\n",
       "       [  0],\n",
       "       [ 29]])"
      ]
     },
     "execution_count": 9,
     "metadata": {},
     "output_type": "execute_result"
    }
   ],
   "source": [
    "h.reshape(3,1)"
   ]
  },
  {
   "cell_type": "markdown",
   "id": "c8de89ca",
   "metadata": {},
   "source": [
    "##### шаг 3 умножить"
   ]
  },
  {
   "cell_type": "code",
   "execution_count": 15,
   "id": "7c12e6ce",
   "metadata": {},
   "outputs": [
    {
     "data": {
      "text/plain": [
       "array([[183],\n",
       "       [282]])"
      ]
     },
     "execution_count": 15,
     "metadata": {},
     "output_type": "execute_result"
    }
   ],
   "source": [
    "R @ h.reshape(3,1)"
   ]
  },
  {
   "cell_type": "code",
   "execution_count": null,
   "id": "bb4d0ff9",
   "metadata": {},
   "outputs": [],
   "source": []
  },
  {
   "cell_type": "code",
   "execution_count": null,
   "id": "7b3d4ea8",
   "metadata": {},
   "outputs": [],
   "source": []
  },
  {
   "cell_type": "markdown",
   "id": "fa6c9b18",
   "metadata": {},
   "source": [
    "##### если размероность не совпадает, то преобразуем матрицу"
   ]
  },
  {
   "cell_type": "code",
   "execution_count": 16,
   "id": "39a2a2d1",
   "metadata": {},
   "outputs": [
    {
     "data": {
      "text/plain": [
       "(2,)"
      ]
     },
     "execution_count": 16,
     "metadata": {},
     "output_type": "execute_result"
    }
   ],
   "source": [
    "d.shape"
   ]
  },
  {
   "cell_type": "code",
   "execution_count": 21,
   "id": "834d1f6f",
   "metadata": {},
   "outputs": [
    {
     "data": {
      "text/plain": [
       "array([-86, 107,  -4])"
      ]
     },
     "execution_count": 21,
     "metadata": {},
     "output_type": "execute_result"
    }
   ],
   "source": [
    "R.reshape(3,2) @ d"
   ]
  }
 ],
 "metadata": {
  "kernelspec": {
   "display_name": "Python 3 (ipykernel)",
   "language": "python",
   "name": "python3"
  },
  "language_info": {
   "codemirror_mode": {
    "name": "ipython",
    "version": 3
   },
   "file_extension": ".py",
   "mimetype": "text/x-python",
   "name": "python",
   "nbconvert_exporter": "python",
   "pygments_lexer": "ipython3",
   "version": "3.11.3"
  }
 },
 "nbformat": 4,
 "nbformat_minor": 5
}
