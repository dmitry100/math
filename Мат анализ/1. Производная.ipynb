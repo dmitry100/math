{
 "cells": [
  {
   "cell_type": "code",
   "execution_count": 1,
   "id": "654615a1",
   "metadata": {},
   "outputs": [],
   "source": [
    "import numpy as np"
   ]
  },
  {
   "cell_type": "code",
   "execution_count": 2,
   "id": "4e87a66b",
   "metadata": {},
   "outputs": [
    {
     "name": "stdout",
     "output_type": "stream",
     "text": [
      "Точное значение производной: 72.0\n",
      "Приближенное значение производной: 72.00002100660186\n"
     ]
    }
   ],
   "source": [
    "# Определяем функцию и точку для вычисления производной.\n",
    "def f(x):\n",
    "\treturn 2*x**3 - 3*x**2\n",
    "x = 4\n",
    "\n",
    "print(\"Точное значение производной:\", 72.)\n",
    "\n",
    "# Определяем длину шага.\n",
    "dx = 1e-6\n",
    "\n",
    "# Рассчитываем значение производной в точке.\n",
    "df = (f(x + dx) - f(x)) / dx\n",
    "\n",
    "print(\"Приближенное значение производной:\", df)"
   ]
  },
  {
   "cell_type": "markdown",
   "id": "57033003",
   "metadata": {},
   "source": [
    "dx - определяем малым числом. Обычно принимают 10-8 степени"
   ]
  },
  {
   "cell_type": "markdown",
   "id": "3bd33a4b",
   "metadata": {},
   "source": [
    "Есть погрешность, поэтому просто берем dx = 10**(-8)"
   ]
  },
  {
   "cell_type": "code",
   "execution_count": 3,
   "id": "93ab90bc",
   "metadata": {},
   "outputs": [
    {
     "name": "stdout",
     "output_type": "stream",
     "text": [
      "Длина шага\t Значение производной\n",
      "1 \t\t 95.0\n",
      "0.1 \t\t 74.11999999999964\n",
      "0.01 \t\t 72.21019999999783\n",
      "0.001 \t\t 72.02100200002803\n",
      "0.0001 \t\t 72.0021000199722\n",
      "1e-05 \t\t 72.00020999960088\n",
      "1e-06 \t\t 72.00002100660186\n",
      "1e-07 \t\t 72.00000212037594\n",
      "1e-08 \t\t 72.00000027296483\n",
      "1e-09 \t\t 72.00000595730671\n",
      "1e-10 \t\t 72.00000595730671\n",
      "1e-11 \t\t 72.00071650004247\n",
      "1e-12 \t\t 72.00640084192855\n",
      "1e-13 \t\t 72.19114195322618\n",
      "1e-14 \t\t 71.05427357601002\n",
      "1e-15 \t\t 56.84341886080801\n",
      "1e-16 \t\t 0.0\n",
      "1e-17 \t\t 0.0\n",
      "1e-18 \t\t 0.0\n",
      "1e-19 \t\t 0.0\n"
     ]
    }
   ],
   "source": [
    "def f(x):\n",
    "    return 2*x**3 - 3*x**2\n",
    "x = 4\n",
    "\n",
    "# Выводим значения длин шага и результатов вычислений:\n",
    "print(\"Длина шага\\t Значение производной\")\n",
    "for i in range(20):\n",
    "    dx = 10**(-i)\n",
    "    df = (f(x + dx) - f(x)) / dx\n",
    "    print(dx,'\\t\\t', df)"
   ]
  },
  {
   "cell_type": "code",
   "execution_count": null,
   "id": "4862f57e",
   "metadata": {},
   "outputs": [],
   "source": []
  },
  {
   "cell_type": "code",
   "execution_count": 4,
   "id": "997b59c4",
   "metadata": {},
   "outputs": [
    {
     "name": "stdout",
     "output_type": "stream",
     "text": [
      "6.150635556423367e-06\n"
     ]
    }
   ],
   "source": [
    "def g(x):\n",
    "\treturn 1 / (1 + np.exp(-x))\n",
    "\n",
    "dx = 10**(-8)\n",
    "x=12\n",
    "dg = (g(x + dx) - g(x)) / dx\n",
    "print(dg)"
   ]
  }
 ],
 "metadata": {
  "kernelspec": {
   "display_name": "Python 3 (ipykernel)",
   "language": "python",
   "name": "python3"
  },
  "language_info": {
   "codemirror_mode": {
    "name": "ipython",
    "version": 3
   },
   "file_extension": ".py",
   "mimetype": "text/x-python",
   "name": "python",
   "nbconvert_exporter": "python",
   "pygments_lexer": "ipython3",
   "version": "3.11.3"
  }
 },
 "nbformat": 4,
 "nbformat_minor": 5
}
