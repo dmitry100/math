{
 "cells": [
  {
   "cell_type": "code",
   "execution_count": 1,
   "id": "aea240a5",
   "metadata": {},
   "outputs": [],
   "source": [
    "import numpy as np\n",
    "from scipy.integrate import quad\n",
    "import matplotlib.pyplot as plt\n",
    "\n",
    "import seaborn as sns\n",
    "import math"
   ]
  },
  {
   "cell_type": "code",
   "execution_count": 2,
   "id": "b444a54d",
   "metadata": {},
   "outputs": [],
   "source": [
    "def f(x):\n",
    "    return 5 - x - np.sin(2*x)#2*x - x**2"
   ]
  },
  {
   "cell_type": "code",
   "execution_count": 3,
   "id": "adb23173",
   "metadata": {},
   "outputs": [],
   "source": [
    "x = np.linspace(-3, 3, 250)\n",
    "y = f(x)"
   ]
  },
  {
   "cell_type": "code",
   "execution_count": 26,
   "id": "f25dac36",
   "metadata": {},
   "outputs": [
    {
     "data": {
      "image/png": "[encoded data removed]",
      "text/plain": [
       "<Figure size 640x480 with 1 Axes>"
      ]
     },
     "metadata": {},
     "output_type": "display_data"
    }
   ],
   "source": [
    "sns.lineplot(x = x, y = y);\n",
    "plt.axvline(0.75*np.pi, ls='--', color = 'green')\n",
    "plt.axvline(-0.75*np.pi, ls='--', color = 'green');\n"
   ]
  },
  {
   "cell_type": "code",
   "execution_count": 20,
   "id": "82d3fab1",
   "metadata": {},
   "outputs": [
    {
     "name": "stdout",
     "output_type": "stream",
     "text": [
      "7.499999999999999\n"
     ]
    }
   ],
   "source": [
    "#ищем значение от 0 до 1 \n",
    "print(quad(f, -0.75*np.pi, 0.75*np.pi)[0]/np.pi)"
   ]
  },
  {
   "cell_type": "code",
   "execution_count": null,
   "id": "e54c7d0b",
   "metadata": {},
   "outputs": [],
   "source": []
  },
  {
   "cell_type": "code",
   "execution_count": 29,
   "id": "1abfefdf",
   "metadata": {},
   "outputs": [],
   "source": [
    "#практика\n",
    "def f(x):\n",
    "    return np.cos(3*x) - np.cos(x) + 0.0003*x**6"
   ]
  },
  {
   "cell_type": "code",
   "execution_count": 30,
   "id": "d5580ca5",
   "metadata": {
    "scrolled": true
   },
   "outputs": [
    {
     "name": "stdout",
     "output_type": "stream",
     "text": [
      "(0.25888227666658203, 6.123877446806425e-14)\n"
     ]
    }
   ],
   "source": [
    "print(quad(f,-np.pi, np.pi))"
   ]
  },
  {
   "cell_type": "code",
   "execution_count": null,
   "id": "d81ead23",
   "metadata": {},
   "outputs": [],
   "source": []
  },
  {
   "cell_type": "code",
   "execution_count": 33,
   "id": "5a80b6b0",
   "metadata": {},
   "outputs": [
    {
     "data": {
      "text/plain": [
       "0.25888227666658215"
      ]
     },
     "execution_count": 33,
     "metadata": {},
     "output_type": "execute_result"
    }
   ],
   "source": [
    "3 * np.pi**7 / 35000"
   ]
  },
  {
   "cell_type": "code",
   "execution_count": null,
   "id": "e6192df1",
   "metadata": {},
   "outputs": [],
   "source": []
  },
  {
   "cell_type": "code",
   "execution_count": 34,
   "id": "3e55d1ad",
   "metadata": {},
   "outputs": [],
   "source": [
    "#КР\n",
    "def f(x):\n",
    "    return x*np.cos(4*x)"
   ]
  },
  {
   "cell_type": "code",
   "execution_count": 35,
   "id": "2f031dc3",
   "metadata": {
    "scrolled": false
   },
   "outputs": [
    {
     "name": "stdout",
     "output_type": "stream",
     "text": [
      "(0.035674770424681035, 3.960695152369746e-16)\n"
     ]
    }
   ],
   "source": [
    "print(quad(f,0, np.pi/8))"
   ]
  },
  {
   "cell_type": "code",
   "execution_count": 36,
   "id": "ec8475a9",
   "metadata": {},
   "outputs": [],
   "source": [
    "def f(x):\n",
    "    return 2/(3**x)"
   ]
  },
  {
   "cell_type": "code",
   "execution_count": 45,
   "id": "5984f3fb",
   "metadata": {},
   "outputs": [
    {
     "name": "stdout",
     "output_type": "stream",
     "text": [
      "(0.6068261510845584, 3.9311138725749845e-09)\n"
     ]
    }
   ],
   "source": [
    "print(quad(f,1, 500))"
   ]
  },
  {
   "cell_type": "code",
   "execution_count": 57,
   "id": "e57fe5b7",
   "metadata": {},
   "outputs": [],
   "source": []
  },
  {
   "cell_type": "code",
   "execution_count": 62,
   "id": "4682bca7",
   "metadata": {},
   "outputs": [],
   "source": [
    "def f(x):\n",
    "    return math.e **(-x**2)"
   ]
  },
  {
   "cell_type": "code",
   "execution_count": 64,
   "id": "3dd108d9",
   "metadata": {},
   "outputs": [
    {
     "name": "stdout",
     "output_type": "stream",
     "text": [
      "(1.772453850905516, 7.768294668555192e-09)\n"
     ]
    }
   ],
   "source": [
    "print(quad(f,-1000, 1000))"
   ]
  },
  {
   "cell_type": "code",
   "execution_count": 68,
   "id": "73cbe82a",
   "metadata": {},
   "outputs": [
    {
     "data": {
      "text/plain": [
       "3.142"
      ]
     },
     "execution_count": 68,
     "metadata": {},
     "output_type": "execute_result"
    }
   ],
   "source": [
    "round(np.pi,3)"
   ]
  }
 ],
 "metadata": {
  "kernelspec": {
   "display_name": "Python 3 (ipykernel)",
   "language": "python",
   "name": "python3"
  },
  "language_info": {
   "codemirror_mode": {
    "name": "ipython",
    "version": 3
   },
   "file_extension": ".py",
   "mimetype": "text/x-python",
   "name": "python",
   "nbconvert_exporter": "python",
   "pygments_lexer": "ipython3",
   "version": "3.11.3"
  }
 },
 "nbformat": 4,
 "nbformat_minor": 5
}
